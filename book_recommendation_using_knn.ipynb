{
  "nbformat": 4,
  "nbformat_minor": 0,
  "metadata": {
    "colab": {
      "provenance": [],
      "gpuType": "T4"
    },
    "kernelspec": {
      "name": "python3",
      "display_name": "Python 3"
    },
    "language_info": {
      "name": "python"
    },
    "accelerator": "GPU"
  },
  "cells": [
    {
      "cell_type": "code",
      "source": [
        "# import libraries (you may add additional imports but you may not have to)\n",
        "import numpy as np\n",
        "import pandas as pd\n",
        "from scipy.sparse import csr_matrix\n",
        "from sklearn.neighbors import NearestNeighbors\n",
        "import matplotlib.pyplot as plt"
      ],
      "metadata": {
        "id": "dRwiT9zD78un"
      },
      "execution_count": null,
      "outputs": []
    },
    {
      "cell_type": "code",
      "source": [
        "# get data files\n",
        "!wget https://cdn.freecodecamp.org/project-data/books/book-crossings.zip\n",
        "\n",
        "!unzip book-crossings.zip\n",
        "\n",
        "books_filename = 'BX-Books.csv'\n",
        "ratings_filename = 'BX-Book-Ratings.csv'"
      ],
      "metadata": {
        "colab": {
          "base_uri": "https://localhost:8080/"
        },
        "id": "4WoU0Eis85Ox",
        "outputId": "29dae1b5-b763-432f-807f-0a040c6d6464"
      },
      "execution_count": null,
      "outputs": [
        {
          "output_type": "stream",
          "name": "stdout",
          "text": [
            "--2023-05-27 06:55:35--  https://cdn.freecodecamp.org/project-data/books/book-crossings.zip\n",
            "Resolving cdn.freecodecamp.org (cdn.freecodecamp.org)... 104.26.2.33, 172.67.70.149, 104.26.3.33, ...\n",
            "Connecting to cdn.freecodecamp.org (cdn.freecodecamp.org)|104.26.2.33|:443... connected.\n",
            "HTTP request sent, awaiting response... 200 OK\n",
            "Length: 26085508 (25M) [application/zip]\n",
            "Saving to: ‘book-crossings.zip’\n",
            "\n",
            "\rbook-crossings.zip    0%[                    ]       0  --.-KB/s               \rbook-crossings.zip  100%[===================>]  24.88M   158MB/s    in 0.2s    \n",
            "\n",
            "2023-05-27 06:55:35 (158 MB/s) - ‘book-crossings.zip’ saved [26085508/26085508]\n",
            "\n",
            "Archive:  book-crossings.zip\n",
            "  inflating: BX-Book-Ratings.csv     \n",
            "  inflating: BX-Books.csv            \n",
            "  inflating: BX-Users.csv            \n"
          ]
        }
      ]
    },
    {
      "cell_type": "code",
      "source": [
        "# import csv data into dataframes\n",
        "df_books = pd.read_csv(\n",
        "    books_filename,\n",
        "    encoding = \"ISO-8859-1\",\n",
        "    sep=\";\",\n",
        "    header=0,\n",
        "    names=['isbn', 'title', 'author'],\n",
        "    usecols=['isbn', 'title', 'author'],\n",
        "    dtype={'isbn': 'str', 'title': 'str', 'author': 'str'})\n",
        "\n",
        "df_ratings = pd.read_csv(\n",
        "    ratings_filename,\n",
        "    encoding = \"ISO-8859-1\",\n",
        "    sep=\";\",\n",
        "    header=0,\n",
        "    names=['user', 'isbn', 'rating'],\n",
        "    usecols=['user', 'isbn', 'rating'],\n",
        "    dtype={'user': 'int32', 'isbn': 'str', 'rating': 'float32'})"
      ],
      "metadata": {
        "id": "DJLGoGLQ87Cj"
      },
      "execution_count": null,
      "outputs": []
    },
    {
      "cell_type": "code",
      "source": [
        "# add your code here - consider creating a new cell for each section of code\n",
        "print(df_books)"
      ],
      "metadata": {
        "colab": {
          "base_uri": "https://localhost:8080/"
        },
        "id": "L4CQuQtA8_Gw",
        "outputId": "18181f21-f201-4c97-ed22-cc0c09261d85"
      },
      "execution_count": null,
      "outputs": [
        {
          "output_type": "stream",
          "name": "stdout",
          "text": [
            "              isbn                                              title  \\\n",
            "0       0195153448                                Classical Mythology   \n",
            "1       0002005018                                       Clara Callan   \n",
            "2       0060973129                               Decision in Normandy   \n",
            "3       0374157065  Flu: The Story of the Great Influenza Pandemic...   \n",
            "4       0393045218                             The Mummies of Urumchi   \n",
            "...            ...                                                ...   \n",
            "271374  0440400988                         There's a Bat in Bunk Five   \n",
            "271375  0525447644                            From One to One Hundred   \n",
            "271376  006008667X  Lily Dale : The True Story of the Town that Ta...   \n",
            "271377  0192126040                        Republic (World's Classics)   \n",
            "271378  0767409752  A Guided Tour of Rene Descartes' Meditations o...   \n",
            "\n",
            "                      author  \n",
            "0         Mark P. O. Morford  \n",
            "1       Richard Bruce Wright  \n",
            "2               Carlo D'Este  \n",
            "3           Gina Bari Kolata  \n",
            "4            E. J. W. Barber  \n",
            "...                      ...  \n",
            "271374        Paula Danziger  \n",
            "271375            Teri Sloat  \n",
            "271376      Christine Wicker  \n",
            "271377                 Plato  \n",
            "271378   Christopher  Biffle  \n",
            "\n",
            "[271379 rows x 3 columns]\n"
          ]
        }
      ]
    },
    {
      "cell_type": "code",
      "source": [
        "print(df_ratings)"
      ],
      "metadata": {
        "colab": {
          "base_uri": "https://localhost:8080/"
        },
        "id": "li0yPnf79BUV",
        "outputId": "47c2703a-8f31-442a-f79c-0c021b31c5e1"
      },
      "execution_count": null,
      "outputs": [
        {
          "output_type": "stream",
          "name": "stdout",
          "text": [
            "           user         isbn  rating\n",
            "0        276725   034545104X     0.0\n",
            "1        276726   0155061224     5.0\n",
            "2        276727   0446520802     0.0\n",
            "3        276729   052165615X     3.0\n",
            "4        276729   0521795028     6.0\n",
            "...         ...          ...     ...\n",
            "1149775  276704   1563526298     9.0\n",
            "1149776  276706   0679447156     0.0\n",
            "1149777  276709   0515107662    10.0\n",
            "1149778  276721   0590442449    10.0\n",
            "1149779  276723  05162443314     8.0\n",
            "\n",
            "[1149780 rows x 3 columns]\n"
          ]
        }
      ]
    },
    {
      "cell_type": "code",
      "source": [
        "# Calculate user and book rating counts\n",
        "user_RatingCount = df_ratings.groupby('user')['rating'].count().reset_index().rename(columns = {'rating':'userTotalRatingCount'})\n",
        "book_RatingCount = df_ratings.groupby('isbn')['rating'].count().reset_index().rename(columns = {'rating':'bookTotalRatingCount'})\n",
        "\n",
        "# Add to df_ratings\n",
        "df_ratings = df_ratings.merge(user_RatingCount,how='left', left_on='user', right_on='user')\n",
        "df_ratings = df_ratings.merge(book_RatingCount, how='left', left_on='isbn', right_on='isbn')\n",
        "\n",
        "# Filter data for statistical significance\n",
        "df_ratings_2 =df_ratings.loc[(df_ratings['userTotalRatingCount']>=200) & (df_ratings['bookTotalRatingCount']>=100)]"
      ],
      "metadata": {
        "id": "z_czUgd79DR8"
      },
      "execution_count": null,
      "outputs": []
    },
    {
      "cell_type": "code",
      "source": [
        "# merge data sets\n",
        "books_with_ratings = pd.merge(df_ratings_2, df_books, on='isbn')\n",
        "print(books_with_ratings)"
      ],
      "metadata": {
        "colab": {
          "base_uri": "https://localhost:8080/"
        },
        "id": "EeNhyhHx9GTk",
        "outputId": "30583af3-302f-42d6-fffe-4573474b5ce9"
      },
      "execution_count": null,
      "outputs": [
        {
          "output_type": "stream",
          "name": "stdout",
          "text": [
            "         user        isbn  rating  userTotalRatingCount  bookTotalRatingCount  \\\n",
            "0      277427  002542730X    10.0                   497                   171   \n",
            "1        3363  002542730X     0.0                   901                   171   \n",
            "2       11676  002542730X     6.0                 13602                   171   \n",
            "3       12538  002542730X    10.0                  1351                   171   \n",
            "4       13552  002542730X     0.0                   709                   171   \n",
            "...       ...         ...     ...                   ...                   ...   \n",
            "49512  238864  0399149325     0.0                   353                   113   \n",
            "49513  251843  0399149325     1.0                   338                   113   \n",
            "49514  253821  0399149325     0.0                   337                   113   \n",
            "49515  265115  0399149325     0.0                  1221                   113   \n",
            "49516  266226  0399149325     0.0                  1314                   113   \n",
            "\n",
            "                                                   title             author  \n",
            "0      Politically Correct Bedtime Stories: Modern Ta...  James Finn Garner  \n",
            "1      Politically Correct Bedtime Stories: Modern Ta...  James Finn Garner  \n",
            "2      Politically Correct Bedtime Stories: Modern Ta...  James Finn Garner  \n",
            "3      Politically Correct Bedtime Stories: Modern Ta...  James Finn Garner  \n",
            "4      Politically Correct Bedtime Stories: Modern Ta...  James Finn Garner  \n",
            "...                                                  ...                ...  \n",
            "49512  Portrait of a Killer: Jack the Ripper -- Case ...  Patricia Cornwell  \n",
            "49513  Portrait of a Killer: Jack the Ripper -- Case ...  Patricia Cornwell  \n",
            "49514  Portrait of a Killer: Jack the Ripper -- Case ...  Patricia Cornwell  \n",
            "49515  Portrait of a Killer: Jack the Ripper -- Case ...  Patricia Cornwell  \n",
            "49516  Portrait of a Killer: Jack the Ripper -- Case ...  Patricia Cornwell  \n",
            "\n",
            "[49517 rows x 7 columns]\n"
          ]
        }
      ]
    },
    {
      "cell_type": "code",
      "source": [
        "# Remove duplicates\n",
        "books_with_ratings_2 = books_with_ratings.drop_duplicates(['title', 'user'])"
      ],
      "metadata": {
        "id": "jZY7C2u49Ih6"
      },
      "execution_count": null,
      "outputs": []
    },
    {
      "cell_type": "code",
      "source": [
        "# Preparing data table for analysis\n",
        "books_with_ratings_pivot = pd.pivot_table(data=books_with_ratings_2, values='rating', index='title', columns='user').fillna(0)\n",
        "print(books_with_ratings_pivot)"
      ],
      "metadata": {
        "colab": {
          "base_uri": "https://localhost:8080/"
        },
        "id": "xd2IUzMK9NEu",
        "outputId": "f1c55f0b-ace9-4432-f596-c1abdfc41c8d"
      },
      "execution_count": null,
      "outputs": [
        {
          "output_type": "stream",
          "name": "stdout",
          "text": [
            "user                                                254     2276    2766    \\\n",
            "title                                                                        \n",
            "1984                                                   9.0     0.0     0.0   \n",
            "1st to Die: A Novel                                    0.0     0.0     0.0   \n",
            "2nd Chance                                             0.0    10.0     0.0   \n",
            "4 Blondes                                              0.0     0.0     0.0   \n",
            "A Beautiful Mind: The Life of Mathematical Geni...     0.0     0.0     0.0   \n",
            "...                                                    ...     ...     ...   \n",
            "Without Remorse                                        0.0     0.0     0.0   \n",
            "Year of Wonders                                        0.0     0.0     0.0   \n",
            "You Belong To Me                                       0.0     0.0     0.0   \n",
            "Zen and the Art of Motorcycle Maintenance: An I...     0.0     0.0     0.0   \n",
            "\\O\\\" Is for Outlaw\"                                    0.0     0.0     0.0   \n",
            "\n",
            "user                                                2977    3363    4017    \\\n",
            "title                                                                        \n",
            "1984                                                   0.0     0.0     0.0   \n",
            "1st to Die: A Novel                                    0.0     0.0     0.0   \n",
            "2nd Chance                                             0.0     0.0     0.0   \n",
            "4 Blondes                                              0.0     0.0     0.0   \n",
            "A Beautiful Mind: The Life of Mathematical Geni...     0.0     0.0     0.0   \n",
            "...                                                    ...     ...     ...   \n",
            "Without Remorse                                        0.0     0.0     0.0   \n",
            "Year of Wonders                                        7.0     0.0     0.0   \n",
            "You Belong To Me                                       0.0     0.0     0.0   \n",
            "Zen and the Art of Motorcycle Maintenance: An I...     0.0     0.0     0.0   \n",
            "\\O\\\" Is for Outlaw\"                                    0.0     0.0     0.0   \n",
            "\n",
            "user                                                4385    6242    6251    \\\n",
            "title                                                                        \n",
            "1984                                                   0.0     0.0     0.0   \n",
            "1st to Die: A Novel                                    0.0     0.0     0.0   \n",
            "2nd Chance                                             0.0     0.0     0.0   \n",
            "4 Blondes                                              0.0     0.0     0.0   \n",
            "A Beautiful Mind: The Life of Mathematical Geni...     0.0     0.0     0.0   \n",
            "...                                                    ...     ...     ...   \n",
            "Without Remorse                                        0.0     0.0     0.0   \n",
            "Year of Wonders                                        0.0     7.0     0.0   \n",
            "You Belong To Me                                       0.0     0.0     0.0   \n",
            "Zen and the Art of Motorcycle Maintenance: An I...     0.0     0.0     0.0   \n",
            "\\O\\\" Is for Outlaw\"                                    0.0     0.0     0.0   \n",
            "\n",
            "user                                                6323    ...  274004  \\\n",
            "title                                                       ...           \n",
            "1984                                                   0.0  ...     0.0   \n",
            "1st to Die: A Novel                                    0.0  ...     0.0   \n",
            "2nd Chance                                             0.0  ...     0.0   \n",
            "4 Blondes                                              0.0  ...     0.0   \n",
            "A Beautiful Mind: The Life of Mathematical Geni...     0.0  ...     0.0   \n",
            "...                                                    ...  ...     ...   \n",
            "Without Remorse                                        0.0  ...     0.0   \n",
            "Year of Wonders                                        0.0  ...     0.0   \n",
            "You Belong To Me                                       0.0  ...     0.0   \n",
            "Zen and the Art of Motorcycle Maintenance: An I...     0.0  ...     0.0   \n",
            "\\O\\\" Is for Outlaw\"                                    0.0  ...     0.0   \n",
            "\n",
            "user                                                274061  274301  274308  \\\n",
            "title                                                                        \n",
            "1984                                                   0.0     0.0     0.0   \n",
            "1st to Die: A Novel                                    0.0     0.0     0.0   \n",
            "2nd Chance                                             0.0     0.0     0.0   \n",
            "4 Blondes                                              0.0     0.0     0.0   \n",
            "A Beautiful Mind: The Life of Mathematical Geni...     0.0     0.0     0.0   \n",
            "...                                                    ...     ...     ...   \n",
            "Without Remorse                                        0.0     0.0     0.0   \n",
            "Year of Wonders                                        0.0     0.0     0.0   \n",
            "You Belong To Me                                       0.0     0.0     0.0   \n",
            "Zen and the Art of Motorcycle Maintenance: An I...     0.0     0.0     0.0   \n",
            "\\O\\\" Is for Outlaw\"                                    0.0     8.0     0.0   \n",
            "\n",
            "user                                                274808  275970  277427  \\\n",
            "title                                                                        \n",
            "1984                                                   0.0     0.0     0.0   \n",
            "1st to Die: A Novel                                    0.0     0.0     0.0   \n",
            "2nd Chance                                             0.0     0.0     0.0   \n",
            "4 Blondes                                              0.0     0.0     0.0   \n",
            "A Beautiful Mind: The Life of Mathematical Geni...     0.0     0.0     0.0   \n",
            "...                                                    ...     ...     ...   \n",
            "Without Remorse                                        0.0     0.0     0.0   \n",
            "Year of Wonders                                        0.0     0.0     0.0   \n",
            "You Belong To Me                                       0.0     0.0     0.0   \n",
            "Zen and the Art of Motorcycle Maintenance: An I...     0.0     0.0     0.0   \n",
            "\\O\\\" Is for Outlaw\"                                    0.0     0.0     0.0   \n",
            "\n",
            "user                                                277478  277639  278418  \n",
            "title                                                                       \n",
            "1984                                                   0.0     0.0     0.0  \n",
            "1st to Die: A Novel                                    0.0     0.0     0.0  \n",
            "2nd Chance                                             0.0     0.0     0.0  \n",
            "4 Blondes                                              0.0     0.0     0.0  \n",
            "A Beautiful Mind: The Life of Mathematical Geni...     0.0     0.0     0.0  \n",
            "...                                                    ...     ...     ...  \n",
            "Without Remorse                                        0.0     0.0     0.0  \n",
            "Year of Wonders                                        0.0     0.0     0.0  \n",
            "You Belong To Me                                       0.0     0.0     0.0  \n",
            "Zen and the Art of Motorcycle Maintenance: An I...     0.0     0.0     0.0  \n",
            "\\O\\\" Is for Outlaw\"                                    0.0     0.0     0.0  \n",
            "\n",
            "[673 rows x 888 columns]\n"
          ]
        }
      ]
    },
    {
      "cell_type": "code",
      "source": [
        "# Convert to 2D matrıx\n",
        "books_with_ratings_matrix = csr_matrix(books_with_ratings_pivot.values)"
      ],
      "metadata": {
        "id": "naUVN4_s9PBr"
      },
      "execution_count": null,
      "outputs": []
    },
    {
      "cell_type": "code",
      "source": [
        "# Train Model\n",
        "model_knn = NearestNeighbors(algorithm='auto', metric='cosine')\n",
        "model_knn.fit(books_with_ratings_matrix)"
      ],
      "metadata": {
        "colab": {
          "base_uri": "https://localhost:8080/",
          "height": 75
        },
        "id": "lekCD-KT9Sp5",
        "outputId": "e4514472-3ab0-416a-c77f-ce38ca084033"
      },
      "execution_count": null,
      "outputs": [
        {
          "output_type": "execute_result",
          "data": {
            "text/plain": [
              "NearestNeighbors(metric='cosine')"
            ],
            "text/html": [
              "<style>#sk-container-id-1 {color: black;background-color: white;}#sk-container-id-1 pre{padding: 0;}#sk-container-id-1 div.sk-toggleable {background-color: white;}#sk-container-id-1 label.sk-toggleable__label {cursor: pointer;display: block;width: 100%;margin-bottom: 0;padding: 0.3em;box-sizing: border-box;text-align: center;}#sk-container-id-1 label.sk-toggleable__label-arrow:before {content: \"▸\";float: left;margin-right: 0.25em;color: #696969;}#sk-container-id-1 label.sk-toggleable__label-arrow:hover:before {color: black;}#sk-container-id-1 div.sk-estimator:hover label.sk-toggleable__label-arrow:before {color: black;}#sk-container-id-1 div.sk-toggleable__content {max-height: 0;max-width: 0;overflow: hidden;text-align: left;background-color: #f0f8ff;}#sk-container-id-1 div.sk-toggleable__content pre {margin: 0.2em;color: black;border-radius: 0.25em;background-color: #f0f8ff;}#sk-container-id-1 input.sk-toggleable__control:checked~div.sk-toggleable__content {max-height: 200px;max-width: 100%;overflow: auto;}#sk-container-id-1 input.sk-toggleable__control:checked~label.sk-toggleable__label-arrow:before {content: \"▾\";}#sk-container-id-1 div.sk-estimator input.sk-toggleable__control:checked~label.sk-toggleable__label {background-color: #d4ebff;}#sk-container-id-1 div.sk-label input.sk-toggleable__control:checked~label.sk-toggleable__label {background-color: #d4ebff;}#sk-container-id-1 input.sk-hidden--visually {border: 0;clip: rect(1px 1px 1px 1px);clip: rect(1px, 1px, 1px, 1px);height: 1px;margin: -1px;overflow: hidden;padding: 0;position: absolute;width: 1px;}#sk-container-id-1 div.sk-estimator {font-family: monospace;background-color: #f0f8ff;border: 1px dotted black;border-radius: 0.25em;box-sizing: border-box;margin-bottom: 0.5em;}#sk-container-id-1 div.sk-estimator:hover {background-color: #d4ebff;}#sk-container-id-1 div.sk-parallel-item::after {content: \"\";width: 100%;border-bottom: 1px solid gray;flex-grow: 1;}#sk-container-id-1 div.sk-label:hover label.sk-toggleable__label {background-color: #d4ebff;}#sk-container-id-1 div.sk-serial::before {content: \"\";position: absolute;border-left: 1px solid gray;box-sizing: border-box;top: 0;bottom: 0;left: 50%;z-index: 0;}#sk-container-id-1 div.sk-serial {display: flex;flex-direction: column;align-items: center;background-color: white;padding-right: 0.2em;padding-left: 0.2em;position: relative;}#sk-container-id-1 div.sk-item {position: relative;z-index: 1;}#sk-container-id-1 div.sk-parallel {display: flex;align-items: stretch;justify-content: center;background-color: white;position: relative;}#sk-container-id-1 div.sk-item::before, #sk-container-id-1 div.sk-parallel-item::before {content: \"\";position: absolute;border-left: 1px solid gray;box-sizing: border-box;top: 0;bottom: 0;left: 50%;z-index: -1;}#sk-container-id-1 div.sk-parallel-item {display: flex;flex-direction: column;z-index: 1;position: relative;background-color: white;}#sk-container-id-1 div.sk-parallel-item:first-child::after {align-self: flex-end;width: 50%;}#sk-container-id-1 div.sk-parallel-item:last-child::after {align-self: flex-start;width: 50%;}#sk-container-id-1 div.sk-parallel-item:only-child::after {width: 0;}#sk-container-id-1 div.sk-dashed-wrapped {border: 1px dashed gray;margin: 0 0.4em 0.5em 0.4em;box-sizing: border-box;padding-bottom: 0.4em;background-color: white;}#sk-container-id-1 div.sk-label label {font-family: monospace;font-weight: bold;display: inline-block;line-height: 1.2em;}#sk-container-id-1 div.sk-label-container {text-align: center;}#sk-container-id-1 div.sk-container {/* jupyter's `normalize.less` sets `[hidden] { display: none; }` but bootstrap.min.css set `[hidden] { display: none !important; }` so we also need the `!important` here to be able to override the default hidden behavior on the sphinx rendered scikit-learn.org. See: https://github.com/scikit-learn/scikit-learn/issues/21755 */display: inline-block !important;position: relative;}#sk-container-id-1 div.sk-text-repr-fallback {display: none;}</style><div id=\"sk-container-id-1\" class=\"sk-top-container\"><div class=\"sk-text-repr-fallback\"><pre>NearestNeighbors(metric=&#x27;cosine&#x27;)</pre><b>In a Jupyter environment, please rerun this cell to show the HTML representation or trust the notebook. <br />On GitHub, the HTML representation is unable to render, please try loading this page with nbviewer.org.</b></div><div class=\"sk-container\" hidden><div class=\"sk-item\"><div class=\"sk-estimator sk-toggleable\"><input class=\"sk-toggleable__control sk-hidden--visually\" id=\"sk-estimator-id-1\" type=\"checkbox\" checked><label for=\"sk-estimator-id-1\" class=\"sk-toggleable__label sk-toggleable__label-arrow\">NearestNeighbors</label><div class=\"sk-toggleable__content\"><pre>NearestNeighbors(metric=&#x27;cosine&#x27;)</pre></div></div></div></div></div>"
            ]
          },
          "metadata": {},
          "execution_count": 17
        }
      ]
    },
    {
      "cell_type": "code",
      "source": [
        "NearestNeighbors(algorithm='auto', leaf_size=30, metric='cosine',\n",
        "                 metric_params=None, n_jobs=None, n_neighbors=5, p=2,\n",
        "                 radius=1.0)"
      ],
      "metadata": {
        "colab": {
          "base_uri": "https://localhost:8080/",
          "height": 75
        },
        "id": "evy5OTCb9UiJ",
        "outputId": "d72523e1-6806-4abf-bc93-d921eb6de0b2"
      },
      "execution_count": null,
      "outputs": [
        {
          "output_type": "execute_result",
          "data": {
            "text/plain": [
              "NearestNeighbors(metric='cosine')"
            ],
            "text/html": [
              "<style>#sk-container-id-2 {color: black;background-color: white;}#sk-container-id-2 pre{padding: 0;}#sk-container-id-2 div.sk-toggleable {background-color: white;}#sk-container-id-2 label.sk-toggleable__label {cursor: pointer;display: block;width: 100%;margin-bottom: 0;padding: 0.3em;box-sizing: border-box;text-align: center;}#sk-container-id-2 label.sk-toggleable__label-arrow:before {content: \"▸\";float: left;margin-right: 0.25em;color: #696969;}#sk-container-id-2 label.sk-toggleable__label-arrow:hover:before {color: black;}#sk-container-id-2 div.sk-estimator:hover label.sk-toggleable__label-arrow:before {color: black;}#sk-container-id-2 div.sk-toggleable__content {max-height: 0;max-width: 0;overflow: hidden;text-align: left;background-color: #f0f8ff;}#sk-container-id-2 div.sk-toggleable__content pre {margin: 0.2em;color: black;border-radius: 0.25em;background-color: #f0f8ff;}#sk-container-id-2 input.sk-toggleable__control:checked~div.sk-toggleable__content {max-height: 200px;max-width: 100%;overflow: auto;}#sk-container-id-2 input.sk-toggleable__control:checked~label.sk-toggleable__label-arrow:before {content: \"▾\";}#sk-container-id-2 div.sk-estimator input.sk-toggleable__control:checked~label.sk-toggleable__label {background-color: #d4ebff;}#sk-container-id-2 div.sk-label input.sk-toggleable__control:checked~label.sk-toggleable__label {background-color: #d4ebff;}#sk-container-id-2 input.sk-hidden--visually {border: 0;clip: rect(1px 1px 1px 1px);clip: rect(1px, 1px, 1px, 1px);height: 1px;margin: -1px;overflow: hidden;padding: 0;position: absolute;width: 1px;}#sk-container-id-2 div.sk-estimator {font-family: monospace;background-color: #f0f8ff;border: 1px dotted black;border-radius: 0.25em;box-sizing: border-box;margin-bottom: 0.5em;}#sk-container-id-2 div.sk-estimator:hover {background-color: #d4ebff;}#sk-container-id-2 div.sk-parallel-item::after {content: \"\";width: 100%;border-bottom: 1px solid gray;flex-grow: 1;}#sk-container-id-2 div.sk-label:hover label.sk-toggleable__label {background-color: #d4ebff;}#sk-container-id-2 div.sk-serial::before {content: \"\";position: absolute;border-left: 1px solid gray;box-sizing: border-box;top: 0;bottom: 0;left: 50%;z-index: 0;}#sk-container-id-2 div.sk-serial {display: flex;flex-direction: column;align-items: center;background-color: white;padding-right: 0.2em;padding-left: 0.2em;position: relative;}#sk-container-id-2 div.sk-item {position: relative;z-index: 1;}#sk-container-id-2 div.sk-parallel {display: flex;align-items: stretch;justify-content: center;background-color: white;position: relative;}#sk-container-id-2 div.sk-item::before, #sk-container-id-2 div.sk-parallel-item::before {content: \"\";position: absolute;border-left: 1px solid gray;box-sizing: border-box;top: 0;bottom: 0;left: 50%;z-index: -1;}#sk-container-id-2 div.sk-parallel-item {display: flex;flex-direction: column;z-index: 1;position: relative;background-color: white;}#sk-container-id-2 div.sk-parallel-item:first-child::after {align-self: flex-end;width: 50%;}#sk-container-id-2 div.sk-parallel-item:last-child::after {align-self: flex-start;width: 50%;}#sk-container-id-2 div.sk-parallel-item:only-child::after {width: 0;}#sk-container-id-2 div.sk-dashed-wrapped {border: 1px dashed gray;margin: 0 0.4em 0.5em 0.4em;box-sizing: border-box;padding-bottom: 0.4em;background-color: white;}#sk-container-id-2 div.sk-label label {font-family: monospace;font-weight: bold;display: inline-block;line-height: 1.2em;}#sk-container-id-2 div.sk-label-container {text-align: center;}#sk-container-id-2 div.sk-container {/* jupyter's `normalize.less` sets `[hidden] { display: none; }` but bootstrap.min.css set `[hidden] { display: none !important; }` so we also need the `!important` here to be able to override the default hidden behavior on the sphinx rendered scikit-learn.org. See: https://github.com/scikit-learn/scikit-learn/issues/21755 */display: inline-block !important;position: relative;}#sk-container-id-2 div.sk-text-repr-fallback {display: none;}</style><div id=\"sk-container-id-2\" class=\"sk-top-container\"><div class=\"sk-text-repr-fallback\"><pre>NearestNeighbors(metric=&#x27;cosine&#x27;)</pre><b>In a Jupyter environment, please rerun this cell to show the HTML representation or trust the notebook. <br />On GitHub, the HTML representation is unable to render, please try loading this page with nbviewer.org.</b></div><div class=\"sk-container\" hidden><div class=\"sk-item\"><div class=\"sk-estimator sk-toggleable\"><input class=\"sk-toggleable__control sk-hidden--visually\" id=\"sk-estimator-id-2\" type=\"checkbox\" checked><label for=\"sk-estimator-id-2\" class=\"sk-toggleable__label sk-toggleable__label-arrow\">NearestNeighbors</label><div class=\"sk-toggleable__content\"><pre>NearestNeighbors(metric=&#x27;cosine&#x27;)</pre></div></div></div></div></div>"
            ]
          },
          "metadata": {},
          "execution_count": 18
        }
      ]
    },
    {
      "cell_type": "code",
      "source": [
        "# function to return recommended books - this will be tested\n",
        "def get_recommends(book = \"\"):\n",
        "\n",
        "  X = books_with_ratings_pivot[books_with_ratings_pivot.index == book]\n",
        "  X = X.to_numpy().reshape(1,-1)\n",
        "  distances, indices = model_knn.kneighbors(X,n_neighbors=8)\n",
        "  recommended_books = []\n",
        "  for x in reversed(range(1,6)):\n",
        "      bookrecommended = [books_with_ratings_pivot.index[indices.flatten()[x]], distances.flatten()[x]]\n",
        "      recommended_books.append(bookrecommended)\n",
        "  recommended_books = [book, recommended_books]\n",
        "  \n",
        "  return recommended_books\n"
      ],
      "metadata": {
        "id": "cEq8eZOx9f9r"
      },
      "execution_count": null,
      "outputs": []
    },
    {
      "cell_type": "code",
      "source": [
        "books = get_recommends(\"Where the Heart Is (Oprah's Book Club (Paperback))\")\n",
        "print(books)"
      ],
      "metadata": {
        "colab": {
          "base_uri": "https://localhost:8080/"
        },
        "id": "aPjuBz1B9h1M",
        "outputId": "0d34b67f-7524-4f86-acdf-cad4ad0d3687"
      },
      "execution_count": null,
      "outputs": [
        {
          "output_type": "stream",
          "name": "stdout",
          "text": [
            "[\"Where the Heart Is (Oprah's Book Club (Paperback))\", [[\"I'll Be Seeing You\", 0.8016211], ['The Weight of Water', 0.77085835], ['The Surgeon', 0.7699411], ['I Know This Much Is True', 0.7677075], ['The Lovely Bones: A Novel', 0.7234864]]]\n"
          ]
        }
      ]
    },
    {
      "cell_type": "code",
      "source": [
        "books = get_recommends(\"Where the Heart Is (Oprah's Book Club (Paperback))\")\n",
        "print(books)\n",
        "\n",
        "def test_book_recommendation():\n",
        "  test_pass = True\n",
        "  recommends = get_recommends(\"Where the Heart Is (Oprah's Book Club (Paperback))\")\n",
        "  if recommends[0] != \"Where the Heart Is (Oprah's Book Club (Paperback))\":\n",
        "    test_pass = False\n",
        "  recommended_books = [\"I'll Be Seeing You\", 'The Weight of Water', 'The Surgeon', 'I Know This Much Is True']\n",
        "  recommended_books_dist = [0.8, 0.77, 0.77, 0.77]\n",
        "  for i in range(2): \n",
        "    if recommends[1][i][0] not in recommended_books:\n",
        "      test_pass = False\n",
        "    if abs(recommends[1][i][1] - recommended_books_dist[i]) >= 0.05:\n",
        "      test_pass = False\n",
        "  if test_pass:\n",
        "    print(\"You passed the challenge!\")\n",
        "  else:\n",
        "    print(\"You havn't passed yet. Keep trying!\")\n",
        "\n",
        "test_book_recommendation()"
      ],
      "metadata": {
        "colab": {
          "base_uri": "https://localhost:8080/"
        },
        "id": "P2emEvcc9j9m",
        "outputId": "cb6c6bf8-fca7-45f0-bd74-5d73f607a6e8"
      },
      "execution_count": null,
      "outputs": [
        {
          "output_type": "stream",
          "name": "stdout",
          "text": [
            "[\"Where the Heart Is (Oprah's Book Club (Paperback))\", [[\"I'll Be Seeing You\", 0.8016211], ['The Weight of Water', 0.77085835], ['The Surgeon', 0.7699411], ['I Know This Much Is True', 0.7677075], ['The Lovely Bones: A Novel', 0.7234864]]]\n",
            "You passed the challenge!\n"
          ]
        }
      ]
    },
    {
      "cell_type": "code",
      "source": [],
      "metadata": {
        "id": "xLaBDYMX9m-k"
      },
      "execution_count": null,
      "outputs": []
    }
  ]
}