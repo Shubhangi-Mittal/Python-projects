{
  "nbformat": 4,
  "nbformat_minor": 0,
  "metadata": {
    "colab": {
      "provenance": []
    },
    "kernelspec": {
      "name": "python3",
      "display_name": "Python 3"
    },
    "language_info": {
      "name": "python"
    }
  },
  "cells": [
    {
      "cell_type": "code",
      "execution_count": null,
      "metadata": {
        "colab": {
          "base_uri": "https://localhost:8080/",
          "height": 1000
        },
        "id": "kVV03mbuE_k_",
        "outputId": "da455ca9-bd44-40b6-a507-b66cf48524b0"
      },
      "outputs": [
        {
          "output_type": "stream",
          "name": "stdout",
          "text": [
            "Math Game Menu:\n",
            "1. Scatter Plot Game\n",
            "2. Algebra Practice Game\n",
            "3. Projectile Game\n",
            "4. Quit\n",
            "Enter your choice (1-4): 1\n",
            "Enter the X coordinate: 2\n",
            "Enter the Y coordinate: 5\n",
            "Correct!\n",
            "Math Game Menu:\n",
            "1. Scatter Plot Game\n",
            "2. Algebra Practice Game\n",
            "3. Projectile Game\n",
            "4. Quit\n",
            "Enter your choice (1-4): 2\n",
            "Solve the following equation:\n",
            "-61 + 86\n",
            "Enter the answer: 25\n",
            "Correct!\n",
            "Math Game Menu:\n",
            "1. Scatter Plot Game\n",
            "2. Algebra Practice Game\n",
            "3. Projectile Game\n",
            "4. Quit\n",
            "Enter your choice (1-4): 3\n",
            " ___\n",
            "|   |\n",
            "|   |       #\n",
            "|___|\n",
            "Enter the value of 'a': 1\n",
            "Enter the value of 'b': 2\n",
            "Enter the value of 'c': 3\n",
            "Path cleared the wall!\n",
            "Math Game Menu:\n",
            "1. Scatter Plot Game\n",
            "2. Algebra Practice Game\n",
            "3. Projectile Game\n",
            "4. Quit\n",
            "Enter your choice (1-4): 4\n",
            "Thank you for playing. Goodbye!\n"
          ]
        },
        {
          "output_type": "display_data",
          "data": {
            "text/plain": [
              "<Figure size 800x800 with 1 Axes>"
            ],
            "image/png": "[encoded data removed]"
          },
          "metadata": {}
        }
      ],
      "source": [
        "import matplotlib.pyplot as plt\n",
        "import random\n",
        "\n",
        "def scatter_plot_game():\n",
        "    plt.figure(figsize=(8, 8))  # Adjust the size of the graph\n",
        "    \n",
        "    # Generate random points\n",
        "    x = [random.randint(1, 10) for _ in range(10)]\n",
        "    y = [random.randint(1, 10) for _ in range(10)]\n",
        "    \n",
        "    # Plot the points\n",
        "    plt.scatter(x, y)\n",
        "    plt.xlabel('X')\n",
        "    plt.ylabel('Y')\n",
        "    plt.title('Scatter Plot Game')\n",
        "    \n",
        "    # Prompt the player for coordinates\n",
        "    user_x = int(input(\"Enter the X coordinate: \"))\n",
        "    user_y = int(input(\"Enter the Y coordinate: \"))\n",
        "    \n",
        "    # Check if the coordinates match\n",
        "    if user_x in x and user_y in y:\n",
        "        print(\"Correct!\")\n",
        "    else:\n",
        "        print(\"Wrong!\")\n",
        "\n",
        "def algebra_practice_game():\n",
        "    operations = ['+', '-', '*', '/']\n",
        "    \n",
        "    # Generate one-step problems\n",
        "    a = random.randint(-100, 100)\n",
        "    b = random.randint(-100, 100)\n",
        "    operation = random.choice(operations)\n",
        "    \n",
        "    expression = f\"{a} {operation} {b}\"\n",
        "    print(\"Solve the following equation:\")\n",
        "    print(expression)\n",
        "    \n",
        "    # Prompt the player for the answer\n",
        "    user_answer = int(input(\"Enter the answer: \"))\n",
        "    \n",
        "    # Check if the answer is correct\n",
        "    if eval(expression) == user_answer:\n",
        "        print(\"Correct!\")\n",
        "    else:\n",
        "        print(\"Wrong!\")\n",
        "\n",
        "def projectile_game():\n",
        "    wall_height = random.randint(1, 10)\n",
        "    wall_location = random.randint(1, 10)\n",
        "    \n",
        "    # Display the wall\n",
        "    print(\" ___\")\n",
        "    print(\"|   |\")\n",
        "    print(\"|   |\" + \" \" * (wall_location - 1) + \"#\")\n",
        "    print(\"|___|\")\n",
        "    \n",
        "    # Prompt the player for the parabolic path\n",
        "    a = int(input(\"Enter the value of 'a': \"))\n",
        "    b = int(input(\"Enter the value of 'b': \"))\n",
        "    c = int(input(\"Enter the value of 'c': \"))\n",
        "    \n",
        "    # Check if the path clears the wall\n",
        "    if a * wall_location ** 2 + b * wall_location + c > wall_height:\n",
        "        print(\"Path cleared the wall!\")\n",
        "    else:\n",
        "        print(\"Path did not clear the wall!\")\n",
        "\n",
        "# Main game loop\n",
        "while True:\n",
        "    print(\"Math Game Menu:\")\n",
        "    print(\"1. Scatter Plot Game\")\n",
        "    print(\"2. Algebra Practice Game\")\n",
        "    print(\"3. Projectile Game\")\n",
        "    print(\"4. Quit\")\n",
        "    \n",
        "    choice = input(\"Enter your choice (1-4): \")\n",
        "    \n",
        "    if choice == '1':\n",
        "        scatter_plot_game()\n",
        "    elif choice == '2':\n",
        "        algebra_practice_game()\n",
        "    elif choice == '3':\n",
        "        projectile_game()\n",
        "    elif choice == '4':\n",
        "        print(\"Thank you for playing. Goodbye!\")\n",
        "        break\n",
        "    else:\n",
        "        print(\"Invalid choice. Please try again.\")\n"
      ]
    },
    {
      "cell_type": "code",
      "source": [],
      "metadata": {
        "id": "ledL7MuTFEHn"
      },
      "execution_count": null,
      "outputs": []
    }
  ]
}